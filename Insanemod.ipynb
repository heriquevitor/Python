{
 "cells": [
  {
   "cell_type": "code",
   "execution_count": null,
   "id": "faecfe7f",
   "metadata": {
    "scrolled": true
   },
   "outputs": [],
   "source": []
  },
  {
   "cell_type": "code",
   "execution_count": null,
   "id": "44dce000",
   "metadata": {},
   "outputs": [],
   "source": []
  },
  {
   "cell_type": "code",
   "execution_count": 1,
   "id": "76c410ae",
   "metadata": {},
   "outputs": [
    {
     "name": "stdout",
     "output_type": "stream",
     "text": [
      "False\n",
      "True\n",
      "False\n"
     ]
    }
   ],
   "source": [
    "# Opeadores lógicos que agem sobre valores booleanos combinando ou alterando o valor de saida, tem\n",
    "\n",
    "\n",
    "#not – inverter o valor lógica de uma expressão\n",
    "#and – Compor duas expressões lógicas - so retorna V se as duas expressões forem V\n",
    "#or– Combina duas expressões boleanas, o resultado final é V salvo se ambas forem F \n",
    "tem_cafe = True\n",
    "tem_pao = False\n",
    "print(not tem_cafe)\n",
    "print(tem_cafe or tem_pao)\n",
    "print(tem_cafe and tem_pao)"
   ]
  },
  {
   "cell_type": "code",
   "execution_count": 2,
   "id": "ebc5b48f",
   "metadata": {},
   "outputs": [
    {
     "name": "stdout",
     "output_type": "stream",
     "text": [
      "True\n",
      "False\n",
      "False\n",
      "True\n",
      "False\n",
      "True\n"
     ]
    }
   ],
   "source": [
    "# Operadores Relacionais, o resultado sempre pode ser descrito como um valor sim e não#\n",
    "dolar = 5.3\n",
    "real = 1\n",
    "\n",
    "print(dolar > real)\n",
    "print(dolar < real)\n",
    "print(dolar == real)\n",
    "print(dolar >= real)\n",
    "print(dolar <= real)\n",
    "print(dolar != real)\n",
    "\n"
   ]
  },
  {
   "cell_type": "code",
   "execution_count": 3,
   "id": "aa8f64a4",
   "metadata": {},
   "outputs": [],
   "source": [
    "#Estruturas Sequenciais - Linha a Linha - Funções\n",
    "# Função input - Usuario vai informar e interagir, ou seja ela vai SEMPRE retornar, sendo importante\n",
    "#armazenar o dados em uma variável para nao ficar pertido; essa função recupera o valor e guarda dentro\n",
    "# de uma variavel.#\n",
    "#função get#"
   ]
  },
  {
   "cell_type": "code",
   "execution_count": 33,
   "id": "5cd6ecf7",
   "metadata": {},
   "outputs": [
    {
     "name": "stdout",
     "output_type": "stream",
     "text": [
      "Digite sua idade: 50\n",
      "50 <class 'str'>\n"
     ]
    }
   ],
   "source": [
    "# Input x Output\n",
    "# Sempre sera mapeado para um tipo string\n",
    "# Se eu precisar de fato do numero eu preciso transformar ele para um tipo numerico\n",
    "# \n",
    "idade = input(\"Digite sua idade: \")\n",
    "print(idade, type(idade))"
   ]
  },
  {
   "cell_type": "code",
   "execution_count": null,
   "id": "5dc12aea",
   "metadata": {},
   "outputs": [],
   "source": [
    "print(int(idade)"
   ]
  },
  {
   "cell_type": "code",
   "execution_count": 32,
   "id": "62842866",
   "metadata": {},
   "outputs": [
    {
     "name": "stdout",
     "output_type": "stream",
     "text": [
      "Digite o valor do seu salário mensal: 100\n",
      "Digite seu gasto mensal médio: 100\n",
      "O montante economizado ate o final do ano será de :  0.0\n"
     ]
    }
   ],
   "source": [
    "# Sequencia de passos determinada com resultadoe esperado - Algoritmo\n",
    "\n",
    "salario_mensal = input(\"Digite o valor do seu salário mensal: \")\n",
    "salario_mensal = float(salario_mensal)\n",
    "\n",
    "gasto_mensal = input(\"Digite seu gasto mensal médio: \")\n",
    "gasto_mensal = float(gasto_mensal)\n",
    "\n",
    "salario_total = salario_mensal * 12\n",
    "gasto_total = gasto_mensal * 12\n",
    "\n",
    "montante_economizado = salario_total - gasto_total\n",
    "print(\"O montante economizado ate o final do ano será de : \", montante_economizado)"
   ]
  },
  {
   "cell_type": "code",
   "execution_count": null,
   "id": "4d3494ad",
   "metadata": {},
   "outputs": [],
   "source": [
    "# Estrutura Condicional - Codar linha a linha mas agora com desvio ou seja condicionais\n",
    "# Operador de Comparação sempre tem como saida um valor booleano ou seja a gente vai usar no casos de if while\n",
    "\n",
    "valor_passagem = 4.30\n",
    "valor_corrida = input(\"Quanto é a corrida: \")\n",
    "valor_corrida = float(valor_corrida)\n",
    "\n",
    "if(valor_corrida) <= valor_passagem *5:\n",
    "    print(\"Pague a corrida\")\n",
    "if(valor_corrida) > valor_passagem *5:\n",
    "    print(\"Pague o busao\")\n",
    "\n",
    "\n",
    "#Negação da primeira condição podemos usar o else ai ficaria assim\n",
    "\n",
    "if(valor_corrida) <= valor_passagem *5:\n",
    "    print(\"Pague a corrida\")\n",
    "else:\n",
    "    print(\"Pague o busao\")\n",
    "\n",
    "\n",
    "\n",
    "    "
   ]
  },
  {
   "cell_type": "code",
   "execution_count": null,
   "id": "026b136b",
   "metadata": {},
   "outputs": [],
   "source": [
    "# Podemos agora melhorar o efeito do programa para ter a decisao para verificar mais tarde\n",
    "# Isso é encadeamento de if e else podemos encurtar usando o elif#\n",
    "valor_passagem = 4.30\n",
    "valor_corrida = input(\"Quanto é a corrida: \")\n",
    "valor_corrida = float(valor_corrida)\n",
    "\n",
    "\n",
    "if(valor_corrida) <= valor_passagem *5:\n",
    "    print(\"Pague a corrida\")\n",
    "else:\n",
    "    if (valor_corrida) <= valor_passagem *6:\n",
    "        print(\"Pode aguardar\")\n",
    "    else:\n",
    "        print(\"Pegue o bus\")\n",
    "\n"
   ]
  },
  {
   "cell_type": "code",
   "execution_count": null,
   "id": "64040990",
   "metadata": {},
   "outputs": [],
   "source": [
    "# Isso é encadeamento de if e else podemos encurtar usando o elif#\n",
    "\n",
    "valor_passagem = 4.30\n",
    "valor_corrida = input(\"Quanto é a corrida: \")\n",
    "valor_corrida = float(valor_corrida)\n",
    "\n",
    "\n",
    "if(valor_corrida) <= valor_passagem * 5:\n",
    "    print(\"Pague a corrida\")\n",
    "elif (valor_corrida) <= valor_passagem * 6:\n",
    "    print(\"Pode aguardar\")\n",
    "else:\n",
    "        print(\"Pegue o bus\")"
   ]
  },
  {
   "cell_type": "code",
   "execution_count": null,
   "id": "02b2d90a",
   "metadata": {},
   "outputs": [],
   "source": [
    "# Controle de algoritmo while - enquanto, uma determinada tarefa seja executada enquanto \n",
    "#uma condição seja verdadeira\n",
    "# O contador é uma variavel para isso, vai ter valor inicial e condicionamos ate que ele n atinga\n",
    "# While e o contador precisamos prestar atenção no incremento( até que atinja x precisamos atualizar)\n",
    "# Cuidado para n cair no loop infinito, se seu contador começa em 0 e vc condiciona for menor q 10\n",
    "# mas n incrementa ele vai ficar preso\n",
    "\n",
    "contador = 0\n",
    "# sempre o while é seguido de uma condição\n",
    "while contador < 10:\n",
    "    contador = contador + 1 # isso é para evitar o loop infinito ou seja o incremento\n",
    "    if contador ==1:\n",
    "        print(contador, \"item limpo\")\n",
    "    else:\n",
    "        print(contador, \"Itens limpos\")\n",
    "        \n",
    "print(\"Fim da repetição\")\n",
    "\n"
   ]
  },
  {
   "cell_type": "code",
   "execution_count": 15,
   "id": "23cfff4d",
   "metadata": {},
   "outputs": [
    {
     "name": "stdout",
     "output_type": "stream",
     "text": [
      "1 item limpo\n",
      "2 itens limpos\n",
      "3 itens limpos\n",
      "4 itens limpos\n",
      "5 itens limpos\n",
      "6 itens limpos\n",
      "7 itens limpos\n",
      "8 itens limpos\n",
      "9 itens limpos\n",
      "10 itens limpos\n",
      "Acabou\n"
     ]
    }
   ],
   "source": [
    "# sair do loop quando eu quiser\n",
    "# o break nao é uma ótima prática\n",
    "\n",
    "contador = 0\n",
    "\n",
    "while True:\n",
    "    if contador < 10:\n",
    "        contador = contador + 1\n",
    "        if contador == 1:\n",
    "            print(contador, \"item limpo\")\n",
    "        else:\n",
    "            print(contador, \"itens limpos\")\n",
    "    else:\n",
    "        break\n",
    "print(\"Acabou\")"
   ]
  },
  {
   "cell_type": "code",
   "execution_count": 34,
   "id": "2811bbe0",
   "metadata": {},
   "outputs": [
    {
     "name": "stdout",
     "output_type": "stream",
     "text": [
      "Digite a sua senha: pomba\n",
      "Senha invalidaLetsCode\n",
      "Acesso permitido\n"
     ]
    }
   ],
   "source": [
    "# While também pode ser utilizado para validação de entrada\n",
    "# Pedi a entrada enquanto for diferente do que a gente quer\n",
    "\n",
    "texto = input(\"Digite a sua senha: \")\n",
    "\n",
    "while texto != \"LetsCode\":\n",
    "    texto = input(\"Senha invalida\")\n",
    "\n",
    "print(\"Acesso permitido\")\n",
    " \n"
   ]
  },
  {
   "cell_type": "code",
   "execution_count": 1,
   "id": "0208fedb",
   "metadata": {},
   "outputs": [
    {
     "ename": "IndentationError",
     "evalue": "expected an indented block after function definition on line 1 (Temp/ipykernel_2580/2875860212.py, line 1)",
     "output_type": "error",
     "traceback": [
      "\u001b[1;36m  File \u001b[1;32m\"C:\\Users\\Usuario\\AppData\\Local\\Temp/ipykernel_2580/2875860212.py\"\u001b[1;36m, line \u001b[1;32m1\u001b[0m\n\u001b[1;33m    def sleep_in(weekday, vacation):\u001b[0m\n\u001b[1;37m                                    ^\u001b[0m\n\u001b[1;31mIndentationError\u001b[0m\u001b[1;31m:\u001b[0m expected an indented block after function definition on line 1\n"
     ]
    }
   ],
   "source": [
    "def sleep_in(weekday, vacation):"
   ]
  },
  {
   "cell_type": "code",
   "execution_count": 2,
   "id": "1a912cb6",
   "metadata": {},
   "outputs": [
    {
     "ename": "UnicodeDecodeError",
     "evalue": "'charmap' codec can't decode byte 0x9d in position 1294: character maps to <undefined>",
     "output_type": "error",
     "traceback": [
      "\u001b[1;31m---------------------------------------------------------------------------\u001b[0m",
      "\u001b[1;31mUnicodeDecodeError\u001b[0m                        Traceback (most recent call last)",
      "\u001b[1;32m~\\AppData\\Local\\Temp/ipykernel_8796/3493811449.py\u001b[0m in \u001b[0;36m<module>\u001b[1;34m\u001b[0m\n\u001b[0;32m     10\u001b[0m \u001b[1;33m\u001b[0m\u001b[0m\n\u001b[0;32m     11\u001b[0m \u001b[0marquivo\u001b[0m \u001b[1;33m=\u001b[0m \u001b[0mopen\u001b[0m\u001b[1;33m(\u001b[0m\u001b[1;34m\"livro.txt\"\u001b[0m\u001b[1;33m,\u001b[0m\u001b[1;34m\"r\"\u001b[0m\u001b[1;33m)\u001b[0m\u001b[1;33m\u001b[0m\u001b[1;33m\u001b[0m\u001b[0m\n\u001b[1;32m---> 12\u001b[1;33m \u001b[0mtexto\u001b[0m \u001b[1;33m=\u001b[0m \u001b[0marquivo\u001b[0m\u001b[1;33m.\u001b[0m\u001b[0mread\u001b[0m\u001b[1;33m(\u001b[0m\u001b[1;33m)\u001b[0m\u001b[1;33m\u001b[0m\u001b[1;33m\u001b[0m\u001b[0m\n\u001b[0m\u001b[0;32m     13\u001b[0m \u001b[0mprint\u001b[0m\u001b[1;33m(\u001b[0m\u001b[0mtexto\u001b[0m\u001b[1;33m)\u001b[0m\u001b[1;33m\u001b[0m\u001b[1;33m\u001b[0m\u001b[0m\n\u001b[0;32m     14\u001b[0m \u001b[0marquivo\u001b[0m\u001b[1;33m.\u001b[0m\u001b[0mclose\u001b[0m\u001b[1;33m(\u001b[0m\u001b[1;33m)\u001b[0m\u001b[1;33m\u001b[0m\u001b[1;33m\u001b[0m\u001b[0m\n",
      "\u001b[1;32m~\\AppData\\Local\\Programs\\Python\\Python310\\lib\\encodings\\cp1252.py\u001b[0m in \u001b[0;36mdecode\u001b[1;34m(self, input, final)\u001b[0m\n\u001b[0;32m     21\u001b[0m \u001b[1;32mclass\u001b[0m \u001b[0mIncrementalDecoder\u001b[0m\u001b[1;33m(\u001b[0m\u001b[0mcodecs\u001b[0m\u001b[1;33m.\u001b[0m\u001b[0mIncrementalDecoder\u001b[0m\u001b[1;33m)\u001b[0m\u001b[1;33m:\u001b[0m\u001b[1;33m\u001b[0m\u001b[1;33m\u001b[0m\u001b[0m\n\u001b[0;32m     22\u001b[0m     \u001b[1;32mdef\u001b[0m \u001b[0mdecode\u001b[0m\u001b[1;33m(\u001b[0m\u001b[0mself\u001b[0m\u001b[1;33m,\u001b[0m \u001b[0minput\u001b[0m\u001b[1;33m,\u001b[0m \u001b[0mfinal\u001b[0m\u001b[1;33m=\u001b[0m\u001b[1;32mFalse\u001b[0m\u001b[1;33m)\u001b[0m\u001b[1;33m:\u001b[0m\u001b[1;33m\u001b[0m\u001b[1;33m\u001b[0m\u001b[0m\n\u001b[1;32m---> 23\u001b[1;33m         \u001b[1;32mreturn\u001b[0m \u001b[0mcodecs\u001b[0m\u001b[1;33m.\u001b[0m\u001b[0mcharmap_decode\u001b[0m\u001b[1;33m(\u001b[0m\u001b[0minput\u001b[0m\u001b[1;33m,\u001b[0m\u001b[0mself\u001b[0m\u001b[1;33m.\u001b[0m\u001b[0merrors\u001b[0m\u001b[1;33m,\u001b[0m\u001b[0mdecoding_table\u001b[0m\u001b[1;33m)\u001b[0m\u001b[1;33m[\u001b[0m\u001b[1;36m0\u001b[0m\u001b[1;33m]\u001b[0m\u001b[1;33m\u001b[0m\u001b[1;33m\u001b[0m\u001b[0m\n\u001b[0m\u001b[0;32m     24\u001b[0m \u001b[1;33m\u001b[0m\u001b[0m\n\u001b[0;32m     25\u001b[0m \u001b[1;32mclass\u001b[0m \u001b[0mStreamWriter\u001b[0m\u001b[1;33m(\u001b[0m\u001b[0mCodec\u001b[0m\u001b[1;33m,\u001b[0m\u001b[0mcodecs\u001b[0m\u001b[1;33m.\u001b[0m\u001b[0mStreamWriter\u001b[0m\u001b[1;33m)\u001b[0m\u001b[1;33m:\u001b[0m\u001b[1;33m\u001b[0m\u001b[1;33m\u001b[0m\u001b[0m\n",
      "\u001b[1;31mUnicodeDecodeError\u001b[0m: 'charmap' codec can't decode byte 0x9d in position 1294: character maps to <undefined>"
     ]
    }
   ],
   "source": [
    "# .../../ tantas barras e pontos para subir e acessar o arquivo\n",
    "# Caso esteja no abaixo basta dizer nome do lugar/nomedoarquivo\n",
    "#na mesma pasta é so abrir\n",
    "# MOdo de abertura, leitura e escrita\n",
    "# Simples? usa o r\n",
    "#Binario?\n",
    "#Função para ler é a read()#\n",
    "# sempre que abrir precisamos fechar\n",
    "#arquivo.close()#\n",
    "\n",
    "arquivo = open(\"livro.txt\",\"r\")\n",
    "texto = arquivo.read()\n",
    "print(texto)\n",
    "arquivo.close()"
   ]
  },
  {
   "cell_type": "code",
   "execution_count": 6,
   "id": "1d3ccf03",
   "metadata": {
    "scrolled": true
   },
   "outputs": [
    {
     "name": "stdout",
     "output_type": "stream",
     "text": [
      "Dom Casmurro \n",
      "\n",
      "Texto de referenda: \n",
      "Obras Completas de Machado de Assis, vol. I, \n",
      "Nova Aguilar, Rio de Janeiro, 1994. \n",
      "Publicado originalmente pela Editora Gamier, Rio de Janeiro, 1899. \n",
      "\n",
      "\n",
      "CAPITULO PRIMEIRO \n",
      "DO TITULO \n",
      "\n",
      "Uma noite destas, vindo da cidade para o Engenho Novo, encontrei no trem da \n",
      "Central um rapaz aqui do bairro, que eu conhego de vista e de chapeu. \n",
      "Cumprimentou-me, sentou-se ao pe de mim, falou da Lua e dos ministros, e \n",
      "acabou recitando-me versos. A viagem era curta, e os versos pode ser que nao \n",
      "fossem inteiramente maus. Sucedeu, porem, que, como eu estava cansado, fechei \n",
      "os olhos tres ou quatro vezes; tanto bastou para que ele interrompesse a leitura e \n",
      "metesse os versos no bolso. \n",
      "\n",
      "— Continue, disse eu acordando. \n",
      "\n",
      "— Ja acabei, murmurou ele. \n",
      "\n",
      "— Sao muito bonitos. \n",
      "\n",
      "Vi-lhe fazer um gesto para tira-los outra vez do bolso, mas nao passou do gesto; \n",
      "estava amuado. No dia seguinte entrou a dizer de mim nomes feios, e acabou \n",
      "alcunhando-me Dom Casmurro. Os vizinhos, que nao gostam dos meus habitos \n",
      "reclusos e calados, deram curso a alcunha, que afinal pegou. Nem por isso me \n",
      "zanguei. Contei a anedota aos amigos da cidade, e eles, por graga, chamam-me \n",
      "assim, alguns em bilhetes: \"Dom Casmurro, domingo vou jantar com voce”.— \n",
      "\"Vou para Petropolis, Dom Casmurro; a casa e a mesma da Renania; ve se deixas \n",
      "essa caverna do Engenho Novo, e vai la passar uns quinze dias comigo\".— \"Meu \n",
      "caro Dom Casmurro, nao cuide que o dispenso do teatro amanha; venha e dormira \n",
      "aqui na cidade; dou-lhe camarote, dou-lhe cha, dou-lhe cama; so nao Ihe dou \n",
      "moga”. \n",
      "\n",
      "Nao consultes dicionarios. Casmurro nao esta aqui no sentido que eles Ihe dao, \n",
      "mas no que Ihe pos o vulgo de homem calado e metido consigo. Dom veio por \n",
      "ironia, para atribuir-me fumos de fidalgo. Tudo por estar cochilando! Tambem nao \n",
      "achei melhor titulo para a minha narracao; se nao tiver outro daqui ate ao fim do \n",
      "livro, vai este mesmo. O meu poeta do trem ficara sabendo que nao Ihe guardo \n",
      "rancor. E com pequeno esforco, sendo o titulo seu, podera cuidar que a obra e \n",
      "sua. Ha livros que apenas terao isso dos seus autores; alguns nem tanto. \n",
      "\n"
     ]
    }
   ],
   "source": [
    "# usar o enconding = \"utf-8\" so quando der erro de charmap\n",
    "\n",
    "arquivo = open(\"livro.txt\", \"r\", encoding =\"utf-8\")\n",
    "texto = arquivo.read()\n",
    "print(texto)\n",
    "arquivo.close()"
   ]
  },
  {
   "cell_type": "code",
   "execution_count": 11,
   "id": "8a29abc0",
   "metadata": {},
   "outputs": [
    {
     "name": "stdout",
     "output_type": "stream",
     "text": [
      "Dom Casmurro \n",
      "\n",
      "Texto de referenda: \n",
      "Obras Completas de Machado de Assis, vol. I, \n",
      "Nova Aguilar, Rio de Janeiro, 1994. \n",
      "Publicado originalmente pela Editora Gamier, Rio de Janeiro, 1899. \n",
      "\n",
      "\n",
      "CAPITULO PRIMEIRO \n",
      "DO TITULO \n",
      "\n",
      "Uma noite destas, vindo da cidade para o Engenho Novo, encontrei no trem da \n",
      "Central um rapaz aqui do bairro, que eu conhego de vista e de chapeu. \n",
      "Cumprimentou-me, sentou-se ao pe de mim, falou da Lua e dos ministros, e \n",
      "acabou recitando-me versos. A viagem era curta, e os versos pode ser que nao \n",
      "fossem inteiramente maus. Sucedeu, porem, que, como eu estava cansado, fechei \n",
      "os olhos tres ou quatro vezes; tanto bastou para que ele interrompesse a leitura e \n",
      "metesse os versos no bolso. \n",
      "\n",
      "— Continue, disse eu acordando. \n",
      "\n",
      "— Ja acabei, murmurou ele. \n",
      "\n",
      "— Sao muito bonitos. \n",
      "\n",
      "Vi-lhe fazer um gesto para tira-los outra vez do bolso, mas nao passou do gesto; \n",
      "estava amuado. No dia seguinte entrou a dizer de mim nomes feios, e acabou \n",
      "alcunhando-me Dom Casmurro. Os vizinhos, que nao gostam dos meus habitos \n",
      "reclusos e calados, deram curso a alcunha, que afinal pegou. Nem por isso me \n",
      "zanguei. Contei a anedota aos amigos da cidade, e eles, por graga, chamam-me \n",
      "assim, alguns em bilhetes: \"Dom Casmurro, domingo vou jantar com voce”.— \n",
      "\"Vou para Petropolis, Dom Casmurro; a casa e a mesma da Renania; ve se deixas \n",
      "essa caverna do Engenho Novo, e vai la passar uns quinze dias comigo\".— \"Meu \n",
      "caro Dom Casmurro, nao cuide que o dispenso do teatro amanha; venha e dormira \n",
      "aqui na cidade; dou-lhe camarote, dou-lhe cha, dou-lhe cama; so nao Ihe dou \n",
      "moga”. \n",
      "\n",
      "Nao consultes dicionarios. Casmurro nao esta aqui no sentido que eles Ihe dao, \n",
      "mas no que Ihe pos o vulgo de homem calado e metido consigo. Dom veio por \n",
      "ironia, para atribuir-me fumos de fidalgo. Tudo por estar cochilando! Tambem nao \n",
      "achei melhor titulo para a minha narracao; se nao tiver outro daqui ate ao fim do \n",
      "livro, vai este mesmo. O meu poeta do trem ficara sabendo que nao Ihe guardo \n",
      "rancor. E com pequeno esforco, sendo o titulo seu, podera cuidar que a obra e \n",
      "sua. Ha livros que apenas terao isso dos seus autores; alguns nem tanto. \n"
     ]
    }
   ],
   "source": [
    "#caso precise analisar linha a linha do arquivo\n",
    "arquivo = open(\"livro.txt\", \"r\", encoding =\"utf-8\")\n",
    "linha = arquivo.readline() \n",
    "while linha != \"\":\n",
    "    print(linha, end=\"\")\n",
    "    linha = arquivo.readline()\n",
    "    arquivo.close"
   ]
  },
  {
   "cell_type": "code",
   "execution_count": 10,
   "id": "905383d8",
   "metadata": {},
   "outputs": [
    {
     "name": "stdout",
     "output_type": "stream",
     "text": [
      "Dom Casmurro \n",
      "\n",
      "Texto de referenda: \n",
      "Obras Completas de Machado de Assis, vol. I, \n",
      "Nova Aguilar, Rio de Janeiro, 1994. \n",
      "Publicado originalmente pela Editora Gamier, Rio de Janeiro, 1899. \n",
      "\n",
      "\n",
      "CAPITULO PRIMEIRO \n",
      "DO TITULO \n",
      "\n",
      "Uma noite destas, vindo da cidade para o Engenho Novo, encontrei no trem da \n",
      "Central um rapaz aqui do bairro, que eu conhego de vista e de chapeu. \n",
      "Cumprimentou-me, sentou-se ao pe de mim, falou da Lua e dos ministros, e \n",
      "acabou recitando-me versos. A viagem era curta, e os versos pode ser que nao \n",
      "fossem inteiramente maus. Sucedeu, porem, que, como eu estava cansado, fechei \n",
      "os olhos tres ou quatro vezes; tanto bastou para que ele interrompesse a leitura e \n",
      "metesse os versos no bolso. \n",
      "\n",
      "— Continue, disse eu acordando. \n",
      "\n",
      "— Ja acabei, murmurou ele. \n",
      "\n",
      "— Sao muito bonitos. \n",
      "\n",
      "Vi-lhe fazer um gesto para tira-los outra vez do bolso, mas nao passou do gesto; \n",
      "estava amuado. No dia seguinte entrou a dizer de mim nomes feios, e acabou \n",
      "alcunhando-me Dom Casmurro. Os vizinhos, que nao gostam dos meus habitos \n",
      "reclusos e calados, deram curso a alcunha, que afinal pegou. Nem por isso me \n",
      "zanguei. Contei a anedota aos amigos da cidade, e eles, por graga, chamam-me \n",
      "assim, alguns em bilhetes: \"Dom Casmurro, domingo vou jantar com voce”.— \n",
      "\"Vou para Petropolis, Dom Casmurro; a casa e a mesma da Renania; ve se deixas \n",
      "essa caverna do Engenho Novo, e vai la passar uns quinze dias comigo\".— \"Meu \n",
      "caro Dom Casmurro, nao cuide que o dispenso do teatro amanha; venha e dormira \n",
      "aqui na cidade; dou-lhe camarote, dou-lhe cha, dou-lhe cama; so nao Ihe dou \n",
      "moga”. \n",
      "\n",
      "Nao consultes dicionarios. Casmurro nao esta aqui no sentido que eles Ihe dao, \n",
      "mas no que Ihe pos o vulgo de homem calado e metido consigo. Dom veio por \n",
      "ironia, para atribuir-me fumos de fidalgo. Tudo por estar cochilando! Tambem nao \n",
      "achei melhor titulo para a minha narracao; se nao tiver outro daqui ate ao fim do \n",
      "livro, vai este mesmo. O meu poeta do trem ficara sabendo que nao Ihe guardo \n",
      "rancor. E com pequeno esforco, sendo o titulo seu, podera cuidar que a obra e \n",
      "sua. Ha livros que apenas terao isso dos seus autores; alguns nem tanto. \n"
     ]
    }
   ],
   "source": [
    "# podemos fzer a mesma coisa com for usando menos codigo\n",
    "\n",
    "arquivo = open(\"livro.txt\", \"r\", encoding =\"utf-8\")\n",
    "for linha in arquivo:\n",
    "    print(linha, end=\"\")\n",
    "arquivo.close()"
   ]
  },
  {
   "cell_type": "code",
   "execution_count": 12,
   "id": "7facccec",
   "metadata": {},
   "outputs": [
    {
     "name": "stdout",
     "output_type": "stream",
     "text": [
      "Dom Casmurro \n",
      "\n",
      "Texto de referenda: \n",
      "Obras Completas de Machado de Assis, vol. I, \n",
      "Nova Aguilar, Rio de Janeiro, 1994. \n",
      "Publicado originalmente pela Editora Gamier, Rio de Janeiro, 1899. \n",
      "\n",
      "\n",
      "CAPITULO PRIMEIRO \n",
      "DO TITULO \n",
      "\n",
      "Uma noite destas, vindo da cidade para o Engenho Novo, encontrei no trem da \n",
      "Central um rapaz aqui do bairro, que eu conhego de vista e de chapeu. \n",
      "Cumprimentou-me, sentou-se ao pe de mim, falou da Lua e dos ministros, e \n",
      "acabou recitando-me versos. A viagem era curta, e os versos pode ser que nao \n",
      "fossem inteiramente maus. Sucedeu, porem, que, como eu estava cansado, fechei \n",
      "os olhos tres ou quatro vezes; tanto bastou para que ele interrompesse a leitura e \n",
      "metesse os versos no bolso. \n",
      "\n",
      "— Continue, disse eu acordando. \n",
      "\n",
      "— Ja acabei, murmurou ele. \n",
      "\n",
      "— Sao muito bonitos. \n",
      "\n",
      "Vi-lhe fazer um gesto para tira-los outra vez do bolso, mas nao passou do gesto; \n",
      "estava amuado. No dia seguinte entrou a dizer de mim nomes feios, e acabou \n",
      "alcunhando-me Dom Casmurro. Os vizinhos, que nao gostam dos meus habitos \n",
      "reclusos e calados, deram curso a alcunha, que afinal pegou. Nem por isso me \n",
      "zanguei. Contei a anedota aos amigos da cidade, e eles, por graga, chamam-me \n",
      "assim, alguns em bilhetes: \"Dom Casmurro, domingo vou jantar com voce”.— \n",
      "\"Vou para Petropolis, Dom Casmurro; a casa e a mesma da Renania; ve se deixas \n",
      "essa caverna do Engenho Novo, e vai la passar uns quinze dias comigo\".— \"Meu \n",
      "caro Dom Casmurro, nao cuide que o dispenso do teatro amanha; venha e dormira \n",
      "aqui na cidade; dou-lhe camarote, dou-lhe cha, dou-lhe cama; so nao Ihe dou \n",
      "moga”. \n",
      "\n",
      "Nao consultes dicionarios. Casmurro nao esta aqui no sentido que eles Ihe dao, \n",
      "mas no que Ihe pos o vulgo de homem calado e metido consigo. Dom veio por \n",
      "ironia, para atribuir-me fumos de fidalgo. Tudo por estar cochilando! Tambem nao \n",
      "achei melhor titulo para a minha narracao; se nao tiver outro daqui ate ao fim do \n",
      "livro, vai este mesmo. O meu poeta do trem ficara sabendo que nao Ihe guardo \n",
      "rancor. E com pequeno esforco, sendo o titulo seu, podera cuidar que a obra e \n",
      "sua. Ha livros que apenas terao isso dos seus autores; alguns nem tanto. \n",
      "\n"
     ]
    }
   ],
   "source": [
    "# podemos usar o with e ele fecha sozinho\n",
    "\n",
    "with open(\"livro.txt\", \"r\", encoding =\"utf-8\") as arquivo:\n",
    "    texto = arquivo.read()\n",
    "    print(texto)\n"
   ]
  },
  {
   "cell_type": "code",
   "execution_count": 10,
   "id": "7d6ac381",
   "metadata": {},
   "outputs": [],
   "source": [
    "# Escrita pode ser feita criando novo ou adicionar algo a existente\n",
    "\n",
    "#Criar do zero usar o w mas cuidado porque ele sobrescreve\n",
    "\n",
    "with open(\"arquivo_test.text\", \"w\", encoding=\"utf-8\") as arquivo:\n",
    "    arquivo.write(\"Pequena\\n\")\n",
    "    arquivo.write(\"dodeira\")"
   ]
  },
  {
   "cell_type": "code",
   "execution_count": 12,
   "id": "39b9818d",
   "metadata": {},
   "outputs": [
    {
     "name": "stdout",
     "output_type": "stream",
     "text": [
      "Pequena\n",
      "dodeira"
     ]
    }
   ],
   "source": [
    "with open(\"arquivo_test.text\", \"r\", encoding=\"utf-8\") as arquivo:\n",
    "    print(arquivo.read(), end=\"\")"
   ]
  },
  {
   "cell_type": "code",
   "execution_count": 13,
   "id": "b5fb7a93",
   "metadata": {},
   "outputs": [],
   "source": [
    "with open(\"arquivo_test.text\", \"w\", encoding=\"utf-8\") as arquivo:\n",
    "    arquivo.write(\"terceira linha\\n\")"
   ]
  },
  {
   "cell_type": "code",
   "execution_count": 21,
   "id": "84143f37",
   "metadata": {},
   "outputs": [],
   "source": [
    "# arquivo CSV - Command Separated Vir - criação e\n",
    "# exportação, ele pega texto simples e transforma em\n",
    "# planilhas, simplesmente pelas separações\n",
    "#precisamos da biblioteca \n",
    "# precisa usar import csv\n",
    "\n"
   ]
  },
  {
   "cell_type": "code",
   "execution_count": 15,
   "id": "8da6f6b5",
   "metadata": {},
   "outputs": [],
   "source": [
    "import csv"
   ]
  },
  {
   "cell_type": "code",
   "execution_count": 19,
   "id": "ed0a0903",
   "metadata": {},
   "outputs": [
    {
     "name": "stdout",
     "output_type": "stream",
     "text": [
      "['2020-03-06', 'Brasil', '5', '0', '8', '0']\n",
      "['2020-03-07', 'Brasil', '5', '0', '13', '0']\n",
      "['2020-03-09', 'Brasil', '12', '0', '25', '0']\n",
      "['2020-03-11', 'Brasil', '9', '0', '34', '0']\n",
      "['2020-03-12', 'Brasil', '18', '0', '52', '0']\n",
      "['2020-03-13', 'Brasil', '25', '0', '77', '0']\n",
      "['2020-03-14', 'Brasil', '21', '0', '98', '0']\n",
      "['2020-03-15', 'Brasil', '23', '0', '121', '0']\n",
      "['2020-03-16', 'Brasil', '79', '0', '200', '0']\n",
      "['2020-03-17', 'Brasil', '34', '0', '234', '0']\n",
      "['2020-03-18', 'Brasil', '57', '1', '291', '1']\n",
      "['2020-03-19', 'Brasil', '137', '3', '428', '4']\n",
      "['2020-03-20', 'Brasil', '193', '2', '621', '6']\n",
      "['2020-03-21', 'Brasil', '283', '5', '904', '11']\n",
      "['2020-03-22', 'Brasil', '224', '7', '1128', '18']\n",
      "['2020-03-23', 'Brasil', '418', '7', '1546', '25']\n",
      "['2020-03-24', 'Brasil', '345', '9', '1891', '34']\n",
      "['2020-03-25', 'Brasil', '310', '12', '2201', '46']\n",
      "['2020-03-26', 'Brasil', '232', '11', '2433', '57']\n",
      "['2020-03-27', 'Brasil', '482', '20', '2915', '77']\n",
      "['2020-03-28', 'Brasil', '502', '15', '3417', '92']\n",
      "['2020-03-29', 'Brasil', '487', '22', '3904', '114']\n",
      "['2020-03-30', 'Brasil', '352', '22', '4256', '136']\n",
      "['2020-03-31', 'Brasil', '323', '23', '4579', '159']\n",
      "['2020-04-01', 'Brasil', '1138', '42', '5717', '201']\n",
      "['2020-04-02', 'Brasil', '1119', '40', '6836', '241']\n",
      "['2020-04-03', 'Brasil', '1074', '58', '7910', '299']\n",
      "['2020-04-04', 'Brasil', '1146', '60', '9056', '359']\n",
      "['2020-04-05', 'Brasil', '1222', '73', '10278', '432']\n",
      "['2020-04-06', 'Brasil', '852', '54', '11130', '486']\n",
      "['2020-04-07', 'Brasil', '926', '67', '12056', '553']\n",
      "['2020-04-08', 'Brasil', '1661', '114', '13717', '667']\n",
      "['2020-04-09', 'Brasil', '2210', '133', '15927', '800']\n",
      "['2020-04-10', 'Brasil', '1930', '141', '17857', '941']\n",
      "['2020-04-11', 'Brasil', '1781', '115', '19638', '1056']\n",
      "['2020-04-12', 'Brasil', '1089', '68', '20727', '1124']\n",
      "['2020-04-13', 'Brasil', '1442', '99', '22169', '1223']\n",
      "['2020-04-14', 'Brasil', '1261', '105', '23430', '1328']\n",
      "['2020-04-15', 'Brasil', '1832', '204', '25262', '1532']\n",
      "['2020-04-16', 'Brasil', '3058', '204', '28320', '1736']\n",
      "['2020-04-17', 'Brasil', '2105', '188', '30425', '1924']\n",
      "['2020-04-18', 'Brasil', '3257', '217', '33682', '2141']\n",
      "['2020-04-19', 'Brasil', '2917', '206', '36599', '2347']\n",
      "['2020-04-20', 'Brasil', '2055', '115', '38654', '2462']\n",
      "['2020-04-21', 'Brasil', '1927', '113', '40581', '2575']\n",
      "['2020-04-22', 'Brasil', '2498', '166', '43079', '2741']\n",
      "['2020-04-23', 'Brasil', '2678', '165', '45757', '2906']\n",
      "['2020-04-24', 'Brasil', '3735', '407', '49492', '3313']\n",
      "['2020-04-25', 'Brasil', '3503', '357', '52995', '3670']\n",
      "['2020-04-26', 'Brasil', '5514', '346', '58509', '4016']\n",
      "['2020-04-27', 'Brasil', '3379', '189', '61888', '4205']\n",
      "['2020-04-28', 'Brasil', '4613', '338', '66501', '4543']\n",
      "['2020-04-29', 'Brasil', '5385', '474', '71886', '5017']\n",
      "['2020-04-30', 'Brasil', '6276', '449', '78162', '5466']\n",
      "['2020-05-01', 'Brasil', '7218', '435', '85380', '5901']\n",
      "['2020-05-02', 'Brasil', '6209', '428', '91589', '6329']\n",
      "['2020-05-03', 'Brasil', '4970', '421', '96559', '6750']\n",
      "['2020-05-04', 'Brasil', '4588', '275', '101147', '7025']\n",
      "['2020-05-05', 'Brasil', '6633', '296', '107780', '7321']\n",
      "['2020-05-06', 'Brasil', '6935', '600', '114715', '7921']\n",
      "['2020-05-07', 'Brasil', '10503', '615', '125218', '8536']\n",
      "['2020-05-08', 'Brasil', '9888', '610', '135106', '9146']\n",
      "['2020-05-09', 'Brasil', '10222', '751', '145328', '9897']\n",
      "['2020-05-10', 'Brasil', '10611', '730', '155939', '10627']\n",
      "['2020-05-11', 'Brasil', '6760', '496', '162699', '11123']\n",
      "['2020-05-12', 'Brasil', '5632', '396', '168331', '11519']\n",
      "['2020-05-13', 'Brasil', '9258', '881', '177589', '12400']\n",
      "['2020-05-14', 'Brasil', '11385', '749', '188974', '13149']\n",
      "['2020-05-15', 'Brasil', '13944', '844', '202918', '13993']\n",
      "['2020-05-16', 'Brasil', '15305', '824', '218223', '14817']\n",
      "['2020-05-17', 'Brasil', '14919', '816', '233142', '15633']\n",
      "['2020-05-18', 'Brasil', '7938', '485', '241080', '16118']\n",
      "['2020-05-19', 'Brasil', '13140', '674', '254220', '16792']\n",
      "['2020-05-20', 'Brasil', '17408', '1179', '271628', '17971']\n",
      "['2020-05-21', 'Brasil', '19951', '888', '291579', '18859']\n",
      "['2020-05-22', 'Brasil', '18508', '1188', '310087', '20047']\n",
      "['2020-05-23', 'Brasil', '20803', '1001', '330890', '21048']\n",
      "['2020-05-24', 'Brasil', '16508', '965', '347398', '22013']\n",
      "['2020-05-25', 'Brasil', '15813', '653', '363211', '22666']\n",
      "['2020-05-26', 'Brasil', '11687', '807', '374898', '23473']\n",
      "['2020-05-27', 'Brasil', '16324', '1039', '391222', '24512']\n",
      "['2020-05-28', 'Brasil', '20599', '1086', '411821', '25598']\n",
      "['2020-05-29', 'Brasil', '26417', '1156', '438238', '26754']\n",
      "['2020-05-30', 'Brasil', '26928', '1124', '465166', '27878']\n",
      "['2020-05-31', 'Brasil', '33274', '956', '498440', '28834']\n",
      "['2020-06-01', 'Brasil', '16409', '480', '514849', '29314']\n",
      "['2020-06-02', 'Brasil', '11598', '623', '526447', '29937']\n",
      "['2020-06-03', 'Brasil', '28936', '1262', '555383', '31199']\n",
      "['2020-06-04', 'Brasil', '28633', '1349', '584016', '32548']\n",
      "['2020-06-05', 'Brasil', '30916', '1473', '614932', '34021']\n",
      "['2020-06-06', 'Brasil', '30830', '1005', '645762', '35026']\n",
      "['2020-06-07', 'Brasil', '27075', '904', '672837', '35930']\n",
      "['2020-06-08', 'Brasil', '18921', '525', '691758', '36455']\n",
      "['2020-06-09', 'Brasil', '15654', '679', '707412', '37134']\n",
      "['2020-06-10', 'Brasil', '32091', '1272', '739503', '38406']\n",
      "['2020-06-11', 'Brasil', '32913', '1274', '772416', '39680']\n",
      "['2020-06-12', 'Brasil', '30412', '1239', '802828', '40919']\n",
      "['2020-06-13', 'Brasil', '25982', '909', '828810', '41828']\n",
      "['2020-06-14', 'Brasil', '21704', '892', '850514', '42720']\n",
      "['2020-06-15', 'Brasil', '17110', '612', '867624', '43332']\n",
      "['2020-06-16', 'Brasil', '20647', '627', '888271', '43959']\n"
     ]
    }
   ],
   "source": [
    "# COMO FAZER A LEITURA\n",
    "\n",
    "\n",
    "with open(\"brasil_covid.csv\", \"r\", encoding=\"utf-8\") as arquivo_csv:\n",
    "    leitor = csv.reader(arquivo_csv)\n",
    "    header = next(leitor)\n",
    "    for linha in leitor:\n",
    "        if float(linha[2]) > 1:\n",
    "            print(linha)\n"
   ]
  },
  {
   "cell_type": "code",
   "execution_count": 22,
   "id": "e50b2d59",
   "metadata": {},
   "outputs": [
    {
     "name": "stdout",
     "output_type": "stream",
     "text": [
      "['data', 'pais', 'novos_casos', 'novos_obitos', 'total_casos', 'total_obitos']\n",
      "['2019-12-31', 'Brasil', '0', '0', '0', '0']\n",
      "['2020-01-01', 'Brasil', '0', '0', '0', '0']\n",
      "['2020-01-02', 'Brasil', '0', '0', '0', '0']\n",
      "['2020-01-03', 'Brasil', '0', '0', '0', '0']\n",
      "['2020-01-04', 'Brasil', '0', '0', '0', '0']\n",
      "['2020-01-05', 'Brasil', '0', '0', '0', '0']\n",
      "['2020-01-06', 'Brasil', '0', '0', '0', '0']\n",
      "['2020-01-07', 'Brasil', '0', '0', '0', '0']\n",
      "['2020-01-08', 'Brasil', '0', '0', '0', '0']\n",
      "['2020-01-09', 'Brasil', '0', '0', '0', '0']\n",
      "['2020-01-10', 'Brasil', '0', '0', '0', '0']\n",
      "['2020-01-11', 'Brasil', '0', '0', '0', '0']\n",
      "['2020-01-12', 'Brasil', '0', '0', '0', '0']\n",
      "['2020-01-13', 'Brasil', '0', '0', '0', '0']\n",
      "['2020-01-14', 'Brasil', '0', '0', '0', '0']\n",
      "['2020-01-15', 'Brasil', '0', '0', '0', '0']\n",
      "['2020-01-16', 'Brasil', '0', '0', '0', '0']\n",
      "['2020-01-17', 'Brasil', '0', '0', '0', '0']\n",
      "['2020-01-18', 'Brasil', '0', '0', '0', '0']\n",
      "['2020-01-19', 'Brasil', '0', '0', '0', '0']\n",
      "['2020-01-20', 'Brasil', '0', '0', '0', '0']\n",
      "['2020-01-21', 'Brasil', '0', '0', '0', '0']\n",
      "['2020-01-22', 'Brasil', '0', '0', '0', '0']\n",
      "['2020-01-23', 'Brasil', '0', '0', '0', '0']\n",
      "['2020-01-24', 'Brasil', '0', '0', '0', '0']\n",
      "['2020-01-25', 'Brasil', '0', '0', '0', '0']\n",
      "['2020-01-26', 'Brasil', '0', '0', '0', '0']\n",
      "['2020-01-27', 'Brasil', '0', '0', '0', '0']\n",
      "['2020-01-28', 'Brasil', '0', '0', '0', '0']\n",
      "['2020-01-29', 'Brasil', '0', '0', '0', '0']\n",
      "['2020-01-30', 'Brasil', '0', '0', '0', '0']\n",
      "['2020-01-31', 'Brasil', '0', '0', '0', '0']\n",
      "['2020-02-01', 'Brasil', '0', '0', '0', '0']\n",
      "['2020-02-02', 'Brasil', '0', '0', '0', '0']\n",
      "['2020-02-03', 'Brasil', '0', '0', '0', '0']\n",
      "['2020-02-04', 'Brasil', '0', '0', '0', '0']\n",
      "['2020-02-05', 'Brasil', '0', '0', '0', '0']\n",
      "['2020-02-06', 'Brasil', '0', '0', '0', '0']\n",
      "['2020-02-07', 'Brasil', '0', '0', '0', '0']\n",
      "['2020-02-08', 'Brasil', '0', '0', '0', '0']\n",
      "['2020-02-09', 'Brasil', '0', '0', '0', '0']\n",
      "['2020-02-10', 'Brasil', '0', '0', '0', '0']\n",
      "['2020-02-11', 'Brasil', '0', '0', '0', '0']\n",
      "['2020-02-12', 'Brasil', '0', '0', '0', '0']\n",
      "['2020-02-13', 'Brasil', '0', '0', '0', '0']\n",
      "['2020-02-14', 'Brasil', '0', '0', '0', '0']\n",
      "['2020-02-15', 'Brasil', '0', '0', '0', '0']\n",
      "['2020-02-16', 'Brasil', '0', '0', '0', '0']\n",
      "['2020-02-17', 'Brasil', '0', '0', '0', '0']\n",
      "['2020-02-18', 'Brasil', '0', '0', '0', '0']\n",
      "['2020-02-19', 'Brasil', '0', '0', '0', '0']\n",
      "['2020-02-20', 'Brasil', '0', '0', '0', '0']\n",
      "['2020-02-21', 'Brasil', '0', '0', '0', '0']\n",
      "['2020-02-22', 'Brasil', '0', '0', '0', '0']\n",
      "['2020-02-23', 'Brasil', '0', '0', '0', '0']\n",
      "['2020-02-24', 'Brasil', '0', '0', '0', '0']\n",
      "['2020-02-25', 'Brasil', '0', '0', '0', '0']\n",
      "['2020-02-26', 'Brasil', '1', '0', '1', '0']\n",
      "['2020-02-27', 'Brasil', '0', '0', '1', '0']\n",
      "['2020-02-28', 'Brasil', '0', '0', '1', '0']\n",
      "['2020-02-29', 'Brasil', '0', '0', '1', '0']\n",
      "['2020-03-01', 'Brasil', '1', '0', '2', '0']\n",
      "['2020-03-02', 'Brasil', '0', '0', '2', '0']\n",
      "['2020-03-03', 'Brasil', '0', '0', '2', '0']\n",
      "['2020-03-04', 'Brasil', '0', '0', '2', '0']\n",
      "['2020-03-05', 'Brasil', '1', '0', '3', '0']\n",
      "['2020-03-06', 'Brasil', '5', '0', '8', '0']\n",
      "['2020-03-07', 'Brasil', '5', '0', '13', '0']\n",
      "['2020-03-08', 'Brasil', '0', '0', '13', '0']\n",
      "['2020-03-09', 'Brasil', '12', '0', '25', '0']\n",
      "['2020-03-10', 'Brasil', '0', '0', '25', '0']\n",
      "['2020-03-11', 'Brasil', '9', '0', '34', '0']\n",
      "['2020-03-12', 'Brasil', '18', '0', '52', '0']\n",
      "['2020-03-13', 'Brasil', '25', '0', '77', '0']\n",
      "['2020-03-14', 'Brasil', '21', '0', '98', '0']\n",
      "['2020-03-15', 'Brasil', '23', '0', '121', '0']\n",
      "['2020-03-16', 'Brasil', '79', '0', '200', '0']\n",
      "['2020-03-17', 'Brasil', '34', '0', '234', '0']\n",
      "['2020-03-18', 'Brasil', '57', '1', '291', '1']\n",
      "['2020-03-19', 'Brasil', '137', '3', '428', '4']\n",
      "['2020-03-20', 'Brasil', '193', '2', '621', '6']\n",
      "['2020-03-21', 'Brasil', '283', '5', '904', '11']\n",
      "['2020-03-22', 'Brasil', '224', '7', '1128', '18']\n",
      "['2020-03-23', 'Brasil', '418', '7', '1546', '25']\n",
      "['2020-03-24', 'Brasil', '345', '9', '1891', '34']\n",
      "['2020-03-25', 'Brasil', '310', '12', '2201', '46']\n",
      "['2020-03-26', 'Brasil', '232', '11', '2433', '57']\n",
      "['2020-03-27', 'Brasil', '482', '20', '2915', '77']\n",
      "['2020-03-28', 'Brasil', '502', '15', '3417', '92']\n",
      "['2020-03-29', 'Brasil', '487', '22', '3904', '114']\n",
      "['2020-03-30', 'Brasil', '352', '22', '4256', '136']\n",
      "['2020-03-31', 'Brasil', '323', '23', '4579', '159']\n",
      "['2020-04-01', 'Brasil', '1138', '42', '5717', '201']\n",
      "['2020-04-02', 'Brasil', '1119', '40', '6836', '241']\n",
      "['2020-04-03', 'Brasil', '1074', '58', '7910', '299']\n",
      "['2020-04-04', 'Brasil', '1146', '60', '9056', '359']\n",
      "['2020-04-05', 'Brasil', '1222', '73', '10278', '432']\n",
      "['2020-04-06', 'Brasil', '852', '54', '11130', '486']\n",
      "['2020-04-07', 'Brasil', '926', '67', '12056', '553']\n",
      "['2020-04-08', 'Brasil', '1661', '114', '13717', '667']\n",
      "['2020-04-09', 'Brasil', '2210', '133', '15927', '800']\n",
      "['2020-04-10', 'Brasil', '1930', '141', '17857', '941']\n",
      "['2020-04-11', 'Brasil', '1781', '115', '19638', '1056']\n",
      "['2020-04-12', 'Brasil', '1089', '68', '20727', '1124']\n",
      "['2020-04-13', 'Brasil', '1442', '99', '22169', '1223']\n",
      "['2020-04-14', 'Brasil', '1261', '105', '23430', '1328']\n",
      "['2020-04-15', 'Brasil', '1832', '204', '25262', '1532']\n",
      "['2020-04-16', 'Brasil', '3058', '204', '28320', '1736']\n",
      "['2020-04-17', 'Brasil', '2105', '188', '30425', '1924']\n",
      "['2020-04-18', 'Brasil', '3257', '217', '33682', '2141']\n",
      "['2020-04-19', 'Brasil', '2917', '206', '36599', '2347']\n",
      "['2020-04-20', 'Brasil', '2055', '115', '38654', '2462']\n",
      "['2020-04-21', 'Brasil', '1927', '113', '40581', '2575']\n",
      "['2020-04-22', 'Brasil', '2498', '166', '43079', '2741']\n",
      "['2020-04-23', 'Brasil', '2678', '165', '45757', '2906']\n",
      "['2020-04-24', 'Brasil', '3735', '407', '49492', '3313']\n",
      "['2020-04-25', 'Brasil', '3503', '357', '52995', '3670']\n",
      "['2020-04-26', 'Brasil', '5514', '346', '58509', '4016']\n",
      "['2020-04-27', 'Brasil', '3379', '189', '61888', '4205']\n",
      "['2020-04-28', 'Brasil', '4613', '338', '66501', '4543']\n",
      "['2020-04-29', 'Brasil', '5385', '474', '71886', '5017']\n",
      "['2020-04-30', 'Brasil', '6276', '449', '78162', '5466']\n",
      "['2020-05-01', 'Brasil', '7218', '435', '85380', '5901']\n",
      "['2020-05-02', 'Brasil', '6209', '428', '91589', '6329']\n",
      "['2020-05-03', 'Brasil', '4970', '421', '96559', '6750']\n",
      "['2020-05-04', 'Brasil', '4588', '275', '101147', '7025']\n",
      "['2020-05-05', 'Brasil', '6633', '296', '107780', '7321']\n",
      "['2020-05-06', 'Brasil', '6935', '600', '114715', '7921']\n",
      "['2020-05-07', 'Brasil', '10503', '615', '125218', '8536']\n",
      "['2020-05-08', 'Brasil', '9888', '610', '135106', '9146']\n",
      "['2020-05-09', 'Brasil', '10222', '751', '145328', '9897']\n",
      "['2020-05-10', 'Brasil', '10611', '730', '155939', '10627']\n",
      "['2020-05-11', 'Brasil', '6760', '496', '162699', '11123']\n",
      "['2020-05-12', 'Brasil', '5632', '396', '168331', '11519']\n",
      "['2020-05-13', 'Brasil', '9258', '881', '177589', '12400']\n",
      "['2020-05-14', 'Brasil', '11385', '749', '188974', '13149']\n",
      "['2020-05-15', 'Brasil', '13944', '844', '202918', '13993']\n",
      "['2020-05-16', 'Brasil', '15305', '824', '218223', '14817']\n",
      "['2020-05-17', 'Brasil', '14919', '816', '233142', '15633']\n",
      "['2020-05-18', 'Brasil', '7938', '485', '241080', '16118']\n",
      "['2020-05-19', 'Brasil', '13140', '674', '254220', '16792']\n",
      "['2020-05-20', 'Brasil', '17408', '1179', '271628', '17971']\n",
      "['2020-05-21', 'Brasil', '19951', '888', '291579', '18859']\n",
      "['2020-05-22', 'Brasil', '18508', '1188', '310087', '20047']\n",
      "['2020-05-23', 'Brasil', '20803', '1001', '330890', '21048']\n",
      "['2020-05-24', 'Brasil', '16508', '965', '347398', '22013']\n",
      "['2020-05-25', 'Brasil', '15813', '653', '363211', '22666']\n",
      "['2020-05-26', 'Brasil', '11687', '807', '374898', '23473']\n",
      "['2020-05-27', 'Brasil', '16324', '1039', '391222', '24512']\n",
      "['2020-05-28', 'Brasil', '20599', '1086', '411821', '25598']\n",
      "['2020-05-29', 'Brasil', '26417', '1156', '438238', '26754']\n",
      "['2020-05-30', 'Brasil', '26928', '1124', '465166', '27878']\n",
      "['2020-05-31', 'Brasil', '33274', '956', '498440', '28834']\n",
      "['2020-06-01', 'Brasil', '16409', '480', '514849', '29314']\n",
      "['2020-06-02', 'Brasil', '11598', '623', '526447', '29937']\n",
      "['2020-06-03', 'Brasil', '28936', '1262', '555383', '31199']\n",
      "['2020-06-04', 'Brasil', '28633', '1349', '584016', '32548']\n",
      "['2020-06-05', 'Brasil', '30916', '1473', '614932', '34021']\n",
      "['2020-06-06', 'Brasil', '30830', '1005', '645762', '35026']\n",
      "['2020-06-07', 'Brasil', '27075', '904', '672837', '35930']\n",
      "['2020-06-08', 'Brasil', '18921', '525', '691758', '36455']\n",
      "['2020-06-09', 'Brasil', '15654', '679', '707412', '37134']\n",
      "['2020-06-10', 'Brasil', '32091', '1272', '739503', '38406']\n",
      "['2020-06-11', 'Brasil', '32913', '1274', '772416', '39680']\n",
      "['2020-06-12', 'Brasil', '30412', '1239', '802828', '40919']\n",
      "['2020-06-13', 'Brasil', '25982', '909', '828810', '41828']\n",
      "['2020-06-14', 'Brasil', '21704', '892', '850514', '42720']\n",
      "['2020-06-15', 'Brasil', '17110', '612', '867624', '43332']\n",
      "['2020-06-16', 'Brasil', '20647', '627', '888271', '43959']\n"
     ]
    }
   ],
   "source": [
    " #Sem usar a biblioteca pode receber o mesmo resultado\n",
    "\n",
    "with open(\"brasil_covid.csv\", \"r\") as csv_file:\n",
    "    linhas = csv_file.read()\n",
    "    linhas = linhas.split(\"\\n\")\n",
    "    for linha in linhas:\n",
    "        linha = linha.split(\",\")\n",
    "        print(linha)"
   ]
  },
  {
   "cell_type": "code",
   "execution_count": 1,
   "id": "297a405d",
   "metadata": {},
   "outputs": [
    {
     "ename": "SyntaxError",
     "evalue": "expected ':' (Temp/ipykernel_4228/2355888927.py, line 3)",
     "output_type": "error",
     "traceback": [
      "\u001b[1;36m  File \u001b[1;32m\"C:\\Users\\Usuario\\AppData\\Local\\Temp/ipykernel_4228/2355888927.py\"\u001b[1;36m, line \u001b[1;32m3\u001b[0m\n\u001b[1;33m    with open(\"user.csv\", \"w\", encoding=\"utf-8\" as arquivo_users:\u001b[0m\n\u001b[1;37m             ^\u001b[0m\n\u001b[1;31mSyntaxError\u001b[0m\u001b[1;31m:\u001b[0m expected ':'\n"
     ]
    }
   ],
   "source": [
    "# como fazer a ESCRITA - passada em lista\n",
    "\n",
    "with open(\"user.csv\", \"w\", encoding=\"utf-8\" as arquivo_users:\n",
    "          escritor = csv.writer(arquivo_users)\n",
    "          escritor.writerow([\"nome\", \"sobrenome\",\"email\", \"genero\"])\n",
    "          escritor.writerow([\"Pietro\", \"Ribeiro\", \"pietro  \"])\n",
    "          \n",
    "          "
   ]
  },
  {
   "cell_type": "code",
   "execution_count": 22,
   "id": "f0590bea",
   "metadata": {},
   "outputs": [
    {
     "name": "stdout",
     "output_type": "stream",
     "text": [
      "Digite o número: 50\n",
      "Digite o segundo número: 50\n",
      "O total da soma é:  100.0\n"
     ]
    }
   ],
   "source": [
    "numero1 = input(\"Digite o número: \")\n",
    "numero1 = float(numero1)\n",
    "numero2 = input(\"Digite o segundo número: \")\n",
    "numero2 = float(numero2)\n",
    "soma = numero1 + numero2\n",
    "print(\"O total da soma é: \", soma)"
   ]
  },
  {
   "cell_type": "code",
   "execution_count": 24,
   "id": "1c43a1ef",
   "metadata": {},
   "outputs": [
    {
     "name": "stdout",
     "output_type": "stream",
     "text": [
      "digite a nota: \n",
      "15\n",
      "digite a nota: \n",
      "15\n",
      "digite a nota: \n",
      "15\n",
      "digite a nota: \n",
      "15\n",
      "A média entre as notas é:  48.75\n"
     ]
    }
   ],
   "source": [
    "nota1 = input(\"digite a nota: \\n\")\n",
    "nota1 = float(nota1)\n",
    "nota2 = input(\"digite a nota: \\n\")\n",
    "nota2 = float(nota2)\n",
    "nota3 = input(\"digite a nota: \\n\")\n",
    "nota3 = float(nota3)\n",
    "nota4 = input(\"digite a nota: \\n\")\n",
    "nota4 = float(nota4)\n",
    "media = nota1 + nota2 + nota3 + nota4 /4\n",
    "print(\"A média entre as notas é: \", media)"
   ]
  },
  {
   "cell_type": "code",
   "execution_count": 57,
   "id": "83b3f7ca",
   "metadata": {},
   "outputs": [
    {
     "name": "stdout",
     "output_type": "stream",
     "text": [
      "Digite o valor em metros: \n",
      "50\n",
      "O total de 50.0 metros corresponde a 5000.0 centimetros\n"
     ]
    }
   ],
   "source": [
    "#Concatenação COrretamente e Conversao de dados de String para Float\n",
    "\n",
    "m = float(input(\"Digite o valor em metros: \\n\"))\n",
    "converter = m * 100\n",
    "print(\"O total de {} metros corresponde a {} centimetros\". format(m, converter))   \n",
    "    "
   ]
  },
  {
   "cell_type": "code",
   "execution_count": null,
   "id": "73feaabc",
   "metadata": {},
   "outputs": [],
   "source": []
  },
  {
   "cell_type": "code",
   "execution_count": 54,
   "id": "ad52341b",
   "metadata": {},
   "outputs": [
    {
     "name": "stdout",
     "output_type": "stream",
     "text": [
      "Uma distância em metros: 50\n",
      "50.0m corresponde a 5000.0cm e 50000.0mm\n"
     ]
    }
   ],
   "source": [
    "m = float(input(\"Uma distância em metros: \"))\n",
    "cm = m * 100\n",
    "mm = m * 1000\n",
    "\n",
    "print(\"{}m corresponde a {}cm e {}mm\".format(m, cm, mm))"
   ]
  },
  {
   "cell_type": "code",
   "execution_count": 64,
   "id": "0ec38684",
   "metadata": {},
   "outputs": [
    {
     "name": "stdout",
     "output_type": "stream",
     "text": [
      "Qual o valor do raio do círculo: \n",
      "3\n",
      "Um circulo com raio de 3.0 tem área de 28.26\n"
     ]
    }
   ],
   "source": [
    "#Faça um Programa que peça o raio de um círculo, calcule e mostre sua área.#\n",
    "r = float(input(\"Qual o valor do raio do círculo: \\n\"))\n",
    "pi = 3.14\n",
    "area = pi * r ** 2\n",
    "print(\"Um circulo com raio de {} tem área de {}\". format(r, area))\n",
    "\n"
   ]
  },
  {
   "cell_type": "code",
   "execution_count": 65,
   "id": "eb3b8e1a",
   "metadata": {},
   "outputs": [
    {
     "name": "stdout",
     "output_type": "stream",
     "text": [
      "Qual o valor do lado do quadrado? \n",
      "10\n",
      " Um quadrado de 10.0 lado tem a área de 100.0 e o dobro disso é 200.0\n"
     ]
    }
   ],
   "source": [
    "# Faça um Programa que calcule a área de um quadrado, em seguida mostre o dobro desta área para o usuário.\n",
    "\n",
    "l = float(input(\"Qual o valor do lado do quadrado? \\n\"))\n",
    "area = l **2\n",
    "d = area *2\n",
    "print(\" Um quadrado de {} lado tem a área de {} e o dobro disso é {}\".format(l, area, d))"
   ]
  },
  {
   "cell_type": "code",
   "execution_count": 2,
   "id": "d10019b0",
   "metadata": {},
   "outputs": [
    {
     "name": "stdout",
     "output_type": "stream",
     "text": [
      "Quanto você ganha por hora? \n",
      "10\n",
      "Quantas horas você trabalhou no mês? \n",
      "100\n",
      "Você ganha 10.0 por hora trabalha e o total do seu salario este mês foi de 1000.0\n"
     ]
    }
   ],
   "source": [
    "# Faça um Programa que pergunte quanto você ganha por hora e o número de horas trabalhadas no mês. \n",
    "#Calcule e mostre o total do seu salário no referido mês.\n",
    "gh = float(input(\"Quanto você ganha por hora? \\n\"))\n",
    "ht = float(input(\"Quantas horas você trabalhou no mês? \\n\"))\n",
    "stotal = gh * ht\n",
    "print(\"Você ganha {} por hora trabalhada e o total do seu salario este mês foi de {}\".format(gh, stotal))"
   ]
  },
  {
   "cell_type": "code",
   "execution_count": 4,
   "id": "bcebc79d",
   "metadata": {},
   "outputs": [
    {
     "name": "stdout",
     "output_type": "stream",
     "text": [
      "Qual a temperatura em fahrenheit?10\n",
      "A temperatura de 10.0ºF em celsius é -12.222222222222221\n"
     ]
    }
   ],
   "source": [
    "#Faça um Programa que peça a temperatura em graus Fahrenheit, transforme e mostre a temperatura em graus Celsius.\n",
    "#°C = (°F − 32) ÷ 1, 8\n",
    "fah = float(input(\"Qual a temperatura em fahrenheit?\"))\n",
    "convert = (fah - 32) /1.8\n",
    "print(\"A temperatura de {}ºF em celsius é {}\".format(fah, convert))"
   ]
  },
  {
   "cell_type": "code",
   "execution_count": null,
   "id": "e1fc39c8",
   "metadata": {},
   "outputs": [],
   "source": []
  }
 ],
 "metadata": {
  "kernelspec": {
   "display_name": "Python 3 (ipykernel)",
   "language": "python",
   "name": "python3"
  },
  "language_info": {
   "codemirror_mode": {
    "name": "ipython",
    "version": 3
   },
   "file_extension": ".py",
   "mimetype": "text/x-python",
   "name": "python",
   "nbconvert_exporter": "python",
   "pygments_lexer": "ipython3",
   "version": "3.10.0"
  }
 },
 "nbformat": 4,
 "nbformat_minor": 5
}
